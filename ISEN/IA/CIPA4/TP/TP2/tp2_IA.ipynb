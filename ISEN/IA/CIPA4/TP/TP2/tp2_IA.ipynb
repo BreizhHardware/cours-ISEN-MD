{
 "cells": [
  {
   "cell_type": "markdown",
   "id": "33e76083",
   "metadata": {},
   "source": [
    "# I - Préparation de données"
   ]
  },
  {
   "cell_type": "markdown",
   "id": "1ccf6f5b",
   "metadata": {},
   "source": [
    "## 0-Téléchargement de données"
   ]
  },
  {
   "cell_type": "code",
   "execution_count": 11,
   "id": "5a9a29a0",
   "metadata": {},
   "outputs": [
    {
     "name": "stdout",
     "output_type": "stream",
     "text": [
      "Requirement already satisfied: pandas in ./.venv/lib/python3.13/site-packages (2.3.2)\n",
      "Requirement already satisfied: numpy>=1.26.0 in ./.venv/lib/python3.13/site-packages (from pandas) (2.3.3)\n",
      "Requirement already satisfied: python-dateutil>=2.8.2 in ./.venv/lib/python3.13/site-packages (from pandas) (2.9.0.post0)\n",
      "Requirement already satisfied: pytz>=2020.1 in ./.venv/lib/python3.13/site-packages (from pandas) (2025.2)\n",
      "Requirement already satisfied: tzdata>=2022.7 in ./.venv/lib/python3.13/site-packages (from pandas) (2025.2)\n",
      "Requirement already satisfied: six>=1.5 in ./.venv/lib/python3.13/site-packages (from python-dateutil>=2.8.2->pandas) (1.17.0)\n",
      "Note: you may need to restart the kernel to use updated packages.\n",
      "Note: you may need to restart the kernel to use updated packages.\n",
      "Requirement already satisfied: matplotlib in ./.venv/lib/python3.13/site-packages (3.10.6)\n",
      "Requirement already satisfied: matplotlib in ./.venv/lib/python3.13/site-packages (3.10.6)\n",
      "Requirement already satisfied: contourpy>=1.0.1 in ./.venv/lib/python3.13/site-packages (from matplotlib) (1.3.3)\n",
      "Requirement already satisfied: cycler>=0.10 in ./.venv/lib/python3.13/site-packages (from matplotlib) (0.12.1)\n",
      "Requirement already satisfied: fonttools>=4.22.0 in ./.venv/lib/python3.13/site-packages (from matplotlib) (4.60.0)\n",
      "Requirement already satisfied: kiwisolver>=1.3.1 in ./.venv/lib/python3.13/site-packages (from matplotlib) (1.4.9)\n",
      "Requirement already satisfied: numpy>=1.23 in ./.venv/lib/python3.13/site-packages (from matplotlib) (2.3.3)\n",
      "Requirement already satisfied: packaging>=20.0 in ./.venv/lib/python3.13/site-packages (from matplotlib) (25.0)\n",
      "Requirement already satisfied: pillow>=8 in ./.venv/lib/python3.13/site-packages (from matplotlib) (11.3.0)\n",
      "Requirement already satisfied: pyparsing>=2.3.1 in ./.venv/lib/python3.13/site-packages (from matplotlib) (3.2.5)\n",
      "Requirement already satisfied: python-dateutil>=2.7 in ./.venv/lib/python3.13/site-packages (from matplotlib) (2.9.0.post0)\n",
      "Requirement already satisfied: six>=1.5 in ./.venv/lib/python3.13/site-packages (from python-dateutil>=2.7->matplotlib) (1.17.0)\n",
      "Requirement already satisfied: contourpy>=1.0.1 in ./.venv/lib/python3.13/site-packages (from matplotlib) (1.3.3)\n",
      "Requirement already satisfied: cycler>=0.10 in ./.venv/lib/python3.13/site-packages (from matplotlib) (0.12.1)\n",
      "Requirement already satisfied: fonttools>=4.22.0 in ./.venv/lib/python3.13/site-packages (from matplotlib) (4.60.0)\n",
      "Requirement already satisfied: kiwisolver>=1.3.1 in ./.venv/lib/python3.13/site-packages (from matplotlib) (1.4.9)\n",
      "Requirement already satisfied: numpy>=1.23 in ./.venv/lib/python3.13/site-packages (from matplotlib) (2.3.3)\n",
      "Requirement already satisfied: packaging>=20.0 in ./.venv/lib/python3.13/site-packages (from matplotlib) (25.0)\n",
      "Requirement already satisfied: pillow>=8 in ./.venv/lib/python3.13/site-packages (from matplotlib) (11.3.0)\n",
      "Requirement already satisfied: pyparsing>=2.3.1 in ./.venv/lib/python3.13/site-packages (from matplotlib) (3.2.5)\n",
      "Requirement already satisfied: python-dateutil>=2.7 in ./.venv/lib/python3.13/site-packages (from matplotlib) (2.9.0.post0)\n",
      "Requirement already satisfied: six>=1.5 in ./.venv/lib/python3.13/site-packages (from python-dateutil>=2.7->matplotlib) (1.17.0)\n",
      "Note: you may need to restart the kernel to use updated packages.\n",
      "Note: you may need to restart the kernel to use updated packages.\n",
      "Requirement already satisfied: scikit-learn in ./.venv/lib/python3.13/site-packages (1.7.2)\n",
      "Requirement already satisfied: scikit-learn in ./.venv/lib/python3.13/site-packages (1.7.2)\n",
      "Requirement already satisfied: numpy>=1.22.0 in ./.venv/lib/python3.13/site-packages (from scikit-learn) (2.3.3)\n",
      "Requirement already satisfied: scipy>=1.8.0 in ./.venv/lib/python3.13/site-packages (from scikit-learn) (1.16.2)\n",
      "Requirement already satisfied: joblib>=1.2.0 in ./.venv/lib/python3.13/site-packages (from scikit-learn) (1.5.2)\n",
      "Requirement already satisfied: threadpoolctl>=3.1.0 in ./.venv/lib/python3.13/site-packages (from scikit-learn) (3.6.0)\n",
      "Requirement already satisfied: numpy>=1.22.0 in ./.venv/lib/python3.13/site-packages (from scikit-learn) (2.3.3)\n",
      "Requirement already satisfied: scipy>=1.8.0 in ./.venv/lib/python3.13/site-packages (from scikit-learn) (1.16.2)\n",
      "Requirement already satisfied: joblib>=1.2.0 in ./.venv/lib/python3.13/site-packages (from scikit-learn) (1.5.2)\n",
      "Requirement already satisfied: threadpoolctl>=3.1.0 in ./.venv/lib/python3.13/site-packages (from scikit-learn) (3.6.0)\n",
      "Note: you may need to restart the kernel to use updated packages.\n",
      "Note: you may need to restart the kernel to use updated packages.\n"
     ]
    }
   ],
   "source": [
    "%pip install pandas\n",
    "%pip install matplotlib\n",
    "%pip install scikit-learn"
   ]
  },
  {
   "cell_type": "code",
   "execution_count": 12,
   "id": "5be8782b",
   "metadata": {},
   "outputs": [],
   "source": [
    "from sklearn.datasets import fetch_openml\n",
    "mnist = fetch_openml('mnist_784', version=1)"
   ]
  },
  {
   "cell_type": "markdown",
   "id": "5c06bdc5",
   "metadata": {},
   "source": [
    "## 1- Informations sur les données"
   ]
  },
  {
   "cell_type": "code",
   "execution_count": 13,
   "id": "70575266",
   "metadata": {},
   "outputs": [
    {
     "name": "stdout",
     "output_type": "stream",
     "text": [
      "Clés disponibles dans le dataset MNIST:\n",
      "['data', 'target', 'frame', 'categories', 'feature_names', 'target_names', 'DESCR', 'details', 'url']\n"
     ]
    }
   ],
   "source": [
    "X = mnist.keys()\n",
    "print(\"Clés disponibles dans le dataset MNIST:\")\n",
    "print(list(X))"
   ]
  },
  {
   "cell_type": "code",
   "execution_count": 14,
   "id": "eaffc443",
   "metadata": {},
   "outputs": [
    {
     "name": "stdout",
     "output_type": "stream",
     "text": [
      "a. Variable X créée avec les données\n",
      "b. Taille des données X: (70000, 784)\n",
      "   - Nombre d'échantillons: 70000\n",
      "   - Nombre de features par échantillon: 784\n",
      "\n",
      "c. Variable Y créée avec les classes\n",
      "d. Taille des labels Y: (70000,)\n",
      "   - Nombre total de labels: 70000\n",
      "\n",
      "e. Classes uniques dans la base de données: ['0' '1' '2' '3' '4' '5' '6' '7' '8' '9']\n",
      "   - Nombre de classes différentes: 10\n",
      "\n",
      "f. Description détaillée de la base de données:\n",
      "**Author**: Yann LeCun, Corinna Cortes, Christopher J.C. Burges  \n",
      "**Source**: [MNIST Website](http://yann.lecun.com/exdb/mnist/) - Date unknown  \n",
      "**Please cite**:  \n",
      "\n",
      "The MNIST database of handwritten digits with 784 features, raw data available at: http://yann.lecun.com/exdb/mnist/. It can be split in a training set of the first 60,000 examples, and a test set of 10,000 examples  \n",
      "\n",
      "It is a subset of a larger set available from NIST. The digits have been size-normalized and centered in a fixed-size image. It is a good database for people who want to try learning techniques and pattern recognition methods on real-world data while spending minimal efforts on preprocessing and formatting. The original black and white (bilevel) images from NIST were size normalized to fit in a 20x20 pixel box while preserving their aspect ratio. The resulting images contain grey levels as a result of the anti-aliasing technique used by the normalization algorithm. the images were centered in a 28x28 image by computing the center of mass of the pixels, and translating the image so as to position this point at the center of the 28x28 field.  \n",
      "\n",
      "With some classification methods (particularly template-based methods, such as SVM and K-nearest neighbors), the error rate improves when the digits are centered by bounding box rather than center of mass. If you do this kind of pre-processing, you should report it in your publications. The MNIST database was constructed from NIST's NIST originally designated SD-3 as their training set and SD-1 as their test set. However, SD-3 is much cleaner and easier to recognize than SD-1. The reason for this can be found on the fact that SD-3 was collected among Census Bureau employees, while SD-1 was collected among high-school students. Drawing sensible conclusions from learning experiments requires that the result be independent of the choice of training set and test among the complete set of samples. Therefore it was necessary to build a new database by mixing NIST's datasets.  \n",
      "\n",
      "The MNIST training set is composed of 30,000 patterns from SD-3 and 30,000 patterns from SD-1. Our test set was composed of 5,000 patterns from SD-3 and 5,000 patterns from SD-1. The 60,000 pattern training set contained examples from approximately 250 writers. We made sure that the sets of writers of the training set and test set were disjoint. SD-1 contains 58,527 digit images written by 500 different writers. In contrast to SD-3, where blocks of data from each writer appeared in sequence, the data in SD-1 is scrambled. Writer identities for SD-1 is available and we used this information to unscramble the writers. We then split SD-1 in two: characters written by the first 250 writers went into our new training set. The remaining 250 writers were placed in our test set. Thus we had two sets with nearly 30,000 examples each. The new training set was completed with enough examples from SD-3, starting at pattern # 0, to make a full set of 60,000 training patterns. Similarly, the new test set was completed with SD-3 examples starting at pattern # 35,000 to make a full set with 60,000 test patterns. Only a subset of 10,000 test images (5,000 from SD-1 and 5,000 from SD-3) is available on this site. The full 60,000 sample training set is available.\n",
      "\n",
      "Downloaded from openml.org.\n"
     ]
    }
   ],
   "source": [
    "import numpy as np\n",
    "\n",
    "# a. Stocker les données dans la variable X\n",
    "X = mnist.data\n",
    "print(\"a. Variable X créée avec les données\")\n",
    "\n",
    "# b. Afficher la taille des données (nombre de features et taille de chaque feature)\n",
    "print(f\"b. Taille des données X: {X.shape}\")\n",
    "print(f\"   - Nombre d'échantillons: {X.shape[0]}\")\n",
    "print(f\"   - Nombre de features par échantillon: {X.shape[1]}\")\n",
    "\n",
    "# c. Stocker les classes dans la variable Y\n",
    "Y = mnist.target\n",
    "print(\"\\nc. Variable Y créée avec les classes\")\n",
    "\n",
    "# d. Afficher la taille des labels/classes\n",
    "print(f\"d. Taille des labels Y: {Y.shape}\")\n",
    "print(f\"   - Nombre total de labels: {Y.shape[0]}\")\n",
    "\n",
    "# e. Afficher les différentes classes de la base de données\n",
    "classes_uniques = np.unique(Y)\n",
    "print(f\"\\ne. Classes uniques dans la base de données: {classes_uniques}\")\n",
    "print(f\"   - Nombre de classes différentes: {len(classes_uniques)}\")\n",
    "\n",
    "# f. Description détaillée de la base de données\n",
    "print(\"\\nf. Description détaillée de la base de données:\")\n",
    "print(mnist.DESCR)"
   ]
  },
  {
   "cell_type": "code",
   "execution_count": 20,
   "id": "d333dc4d",
   "metadata": {},
   "outputs": [
    {
     "name": "stdout",
     "output_type": "stream",
     "text": [
      "=== Analyse de la première instance de MNIST ===\n",
      "\n",
      "a. Affichage de la première instance:\n",
      "   i. Première instance extraite avec X.values[0]\n",
      "      Forme originale: (784,)\n",
      "   ii. Image redimensionnée en 28x28: (28, 28)\n"
     ]
    },
    {
     "data": {
      "image/png": "[encoded data removed]",
      "text/plain": [
       "<Figure size 640x480 with 1 Axes>"
      ]
     },
     "metadata": {},
     "output_type": "display_data"
    },
    {
     "name": "stdout",
     "output_type": "stream",
     "text": [
      "   iii. Image affichée en niveau de gris\n",
      "        Valeurs min/max des pixels: 0.0 à 255.0\n",
      "\n",
      "b. Analyse de la première instance:\n",
      "   - Classe de la première instance: 5\n",
      "   - Type de la classe: <class 'numpy.uint8'>\n",
      "   - Type de l'instance (données): <class 'numpy.ndarray'>\n",
      "\n",
      "=== Conclusion ===\n",
      "La première image du dataset MNIST représente le chiffre: 5\n"
     ]
    }
   ],
   "source": [
    "import matplotlib.pyplot as plt\n",
    "import matplotlib as mpl\n",
    "import numpy as np\n",
    "\n",
    "print(\"=== Analyse de la première instance de MNIST ===\\n\")\n",
    "\n",
    "# a. Affichage de la première instance de la base de données\n",
    "print(\"a. Affichage de la première instance:\")\n",
    "\n",
    "# i. Utiliser l'attribut \"values\" du dictionnaire X\n",
    "premiere_instance = X.values[0]\n",
    "print(f\"   i. Première instance extraite avec X.values[0]\")\n",
    "print(f\"      Forme originale: {premiere_instance.shape}\")\n",
    "\n",
    "# ii. Redimensionner via la fonction \"reshape\" de numpy en taille 28,28\n",
    "image_2d = premiere_instance.reshape(28, 28)\n",
    "print(f\"   ii. Image redimensionnée en 28x28: {image_2d.shape}\")\n",
    "\n",
    "# iii. Utiliser imshow avec cmap=mpl.cm.binary pour affichage en niveau de gris\n",
    "plt.figure()\n",
    "plt.imshow(image_2d, cmap=mpl.cm.binary)\n",
    "plt.title(\"Première instance du dataset MNIST\", fontsize=14)\n",
    "plt.axis('off')  # Supprimer les axes pour une meilleure visualisation\n",
    "plt.show()\n",
    "\n",
    "print(f\"   iii. Image affichée en niveau de gris\")\n",
    "print(f\"        Valeurs min/max des pixels: {premiere_instance.min():.1f} à {premiere_instance.max():.1f}\")\n",
    "\n",
    "# b. Afficher la classe et le type de la première instance\n",
    "print(f\"\\nb. Analyse de la première instance:\")\n",
    "classe_premiere = Y.iloc[0]  # Utiliser iloc pour pandas Series\n",
    "print(f\"   - Classe de la première instance: {classe_premiere}\")\n",
    "print(f\"   - Type de la classe: {type(classe_premiere)}\")\n",
    "print(f\"   - Type de l'instance (données): {type(premiere_instance)}\")\n",
    "\n",
    "print(f\"\\n=== Conclusion ===\")\n",
    "print(f\"La première image du dataset MNIST représente le chiffre: {classe_premiere}\")"
   ]
  },
  {
   "cell_type": "code",
   "execution_count": 16,
   "id": "c0966e7f",
   "metadata": {},
   "outputs": [
    {
     "name": "stdout",
     "output_type": "stream",
     "text": [
      "=== Conversion des labels en valeurs numériques ===\n",
      "\n",
      "Type actuel de Y: <class 'pandas.core.series.Series'>\n",
      "Type des éléments de Y: <class 'str'>\n",
      "Premiers labels (avant casting): ['5', '0', '4', '1', '9']\n",
      "\n",
      "Après casting:\n",
      "Type de Y: <class 'pandas.core.series.Series'>\n",
      "Type des éléments de Y: <class 'numpy.uint8'>\n",
      "Premiers labels (après casting): [5, 0, 4, 1, 9]\n",
      "\n",
      "Classe de la première instance (numérique): 5\n",
      "Type de la classe: <class 'numpy.uint8'>\n",
      "\n",
      "=== Conclusion ===\n",
      "Les labels ont été convertis en valeurs numériques avec succès.\n"
     ]
    }
   ],
   "source": [
    "print(\"=== Conversion des labels en valeurs numériques ===\\n\")\n",
    "\n",
    "# Afficher le type actuel des labels\n",
    "print(f\"Type actuel de Y: {type(Y)}\")\n",
    "print(f\"Type des éléments de Y: {type(Y.iloc[0])}\")\n",
    "print(f\"Premiers labels (avant casting): {list(Y.head())}\")\n",
    "\n",
    "# Appliquer le casting sur les labels\n",
    "Y = Y.astype(np.uint8)\n",
    "\n",
    "# Vérifier le résultat du casting\n",
    "print(f\"\\nAprès casting:\")\n",
    "print(f\"Type de Y: {type(Y)}\")\n",
    "print(f\"Type des éléments de Y: {type(Y.iloc[0])}\")\n",
    "print(f\"Premiers labels (après casting): {list(Y.head())}\")\n",
    "\n",
    "# Vérifier que la classe de la première instance est maintenant numérique\n",
    "classe_premiere_numerique = Y.iloc[0]\n",
    "print(f\"\\nClasse de la première instance (numérique): {classe_premiere_numerique}\")\n",
    "print(f\"Type de la classe: {type(classe_premiere_numerique)}\")\n",
    "print(f\"\\n=== Conclusion ===\")\n",
    "print(\"Les labels ont été convertis en valeurs numériques avec succès.\")"
   ]
  },
  {
   "cell_type": "markdown",
   "id": "05f6129e",
   "metadata": {},
   "source": [
    "## 2- Répartition des données"
   ]
  },
  {
   "cell_type": "code",
   "execution_count": 22,
   "id": "b0560d20",
   "metadata": {},
   "outputs": [
    {
     "name": "stdout",
     "output_type": "stream",
     "text": [
      "=== Répartition des données MNIST ===\n",
      "\n",
      "Taille totale des données: 70000 échantillons\n",
      "Taille totale des labels: 70000 échantillons\n",
      "\n",
      "=== Résultats de la répartition ===\n",
      "Données d'apprentissage:\n",
      "  - X_train: (60000, 784) échantillons\n",
      "  - Y_train: (60000,) labels\n",
      "\n",
      "Données de test:\n",
      "  - X_test: (10000, 784) échantillons\n",
      "  - Y_test: (10000,) labels\n",
      "\n",
      "=== Vérification ===\n",
      "Total apprentissage + test: 70000 échantillons\n",
      "Cohérent avec le total original: True\n",
      "\n",
      "Répartition terminée!\n",
      "60 000 échantillons pour l'apprentissage\n",
      "10000 échantillons pour le test\n"
     ]
    }
   ],
   "source": [
    "print(\"=== Répartition des données MNIST ===\\n\")\n",
    "\n",
    "# Vérification de la taille totale des données\n",
    "print(f\"Taille totale des données: {X.shape[0]} échantillons\")\n",
    "print(f\"Taille totale des labels: {Y.shape[0]} échantillons\")\n",
    "\n",
    "# Répartition des données en une seule ligne (indexing sur ndarrays)\n",
    "# a. Les 60 000 premières images composeront la base d'apprentissage\n",
    "# b. Le reste des images constitue la base de test\n",
    "X_train, X_test = X.iloc[:60000], X.iloc[60000:]\n",
    "Y_train, Y_test = Y.iloc[:60000], Y.iloc[60000:]\n",
    "\n",
    "print(f\"\\n=== Résultats de la répartition ===\")\n",
    "print(f\"Données d'apprentissage:\")\n",
    "print(f\"  - X_train: {X_train.shape} échantillons\")\n",
    "print(f\"  - Y_train: {Y_train.shape} labels\")\n",
    "\n",
    "print(f\"\\nDonnées de test:\")\n",
    "print(f\"  - X_test: {X_test.shape} échantillons\") \n",
    "print(f\"  - Y_test: {Y_test.shape} labels\")\n",
    "\n",
    "print(f\"\\n=== Vérification ===\")\n",
    "print(f\"Total apprentissage + test: {X_train.shape[0] + X_test.shape[0]} échantillons\")\n",
    "print(f\"Cohérent avec le total original: {X_train.shape[0] + X_test.shape[0] == X.shape[0]}\")\n",
    "\n",
    "print(f\"\\nRépartition terminée!\")\n",
    "print(f\"60 000 échantillons pour l'apprentissage\")\n",
    "print(f\"{X_test.shape[0]} échantillons pour le test\")"
   ]
  },
  {
   "cell_type": "markdown",
   "id": "6515e1aa",
   "metadata": {},
   "source": [
    "# II- Apprentissage d'un classifieur binaire"
   ]
  },
  {
   "cell_type": "markdown",
   "id": "47d18544",
   "metadata": {},
   "source": [
    "## 2 - Apprentissage des données"
   ]
  },
  {
   "cell_type": "code",
   "execution_count": 26,
   "id": "bff45d57",
   "metadata": {},
   "outputs": [
    {
     "name": "stdout",
     "output_type": "stream",
     "text": [
      "\n",
      "=== Résultats de la répartition ===\n",
      "\n",
      "y_train_5: 0         True\n",
      "1        False\n",
      "2        False\n",
      "3        False\n",
      "4        False\n",
      "         ...  \n",
      "59995    False\n",
      "59996    False\n",
      "59997     True\n",
      "59998    False\n",
      "59999    False\n",
      "Name: class, Length: 60000, dtype: bool\n",
      "\n",
      "y_test_5: 60000    False\n",
      "60001    False\n",
      "60002    False\n",
      "60003    False\n",
      "60004    False\n",
      "         ...  \n",
      "69995    False\n",
      "69996    False\n",
      "69997    False\n",
      "69998     True\n",
      "69999    False\n",
      "Name: class, Length: 10000, dtype: bool\n"
     ]
    }
   ],
   "source": [
    "y_train_5 = (Y_train == 5)\n",
    "y_test_5 = (Y_test == 5)\n",
    "\n",
    "print(f\"\\n=== Résultats de la répartition ===\")\n",
    "print(f\"\\ny_train_5: {y_train_5}\")\n",
    "print(f\"\\ny_test_5: {y_test_5}\")"
   ]
  },
  {
   "cell_type": "code",
   "execution_count": null,
   "id": "e02058de",
   "metadata": {},
   "outputs": [],
   "source": []
  }
 ],
 "metadata": {
  "kernelspec": {
   "display_name": ".venv",
   "language": "python",
   "name": "python3"
  },
  "language_info": {
   "codemirror_mode": {
    "name": "ipython",
    "version": 3
   },
   "file_extension": ".py",
   "mimetype": "text/x-python",
   "name": "python",
   "nbconvert_exporter": "python",
   "pygments_lexer": "ipython3",
   "version": "3.13.7"
  }
 },
 "nbformat": 4,
 "nbformat_minor": 5
}
